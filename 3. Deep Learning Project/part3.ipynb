{
 "cells": [
  {
   "cell_type": "markdown",
   "id": "2249078461bec40c",
   "metadata": {
    "collapsed": false,
    "id": "2249078461bec40c",
    "jupyter": {
     "outputs_hidden": false
    }
   },
   "source": [
    "## Step 0. Folder Structure\n",
    "```\n",
    "3. Deep Learning Project/\n",
    "├── dataset_split/\n",
    "│   ├── train/\n",
    "│   │   ├── african_elephant (780 images)\n",
    "│   │   ├── airliner (780 images)\n",
    "│   │   └── ... (8 more folders)\n",
    "│   ├── val/\n",
    "│   │   ├── african_elephant (260 images)\n",
    "│   │   ├── airliner (260 images)\n",
    "│   │   └── ... (8 more folders)\n",
    "│   └── test (2600 images)\n",
    "├── data_preprocessed/\n",
    "│   ├── labels_train.pt\n",
    "│   ├── labels_val.pt\n",
    "│   ├── tensor_test.pt\n",
    "│   ├── tensor_train.pt\n",
    "│   └── tensor_val.pt\n",
    "├── models/\n",
    "│   ├── resnet18_checkpoint.pkl\n",
    "│   └── resnet34_checkpoint.pkl\n",
    "├── src/\n",
    "│   └── part3.ipynb\n",
    "├── src_datasplit/\n",
    "│   └── data_split.ipynb\n",
    "├── MSA.yaml\n",
    "├── README.md\n",
    "└── IEEE_Report_Template.docx\n",
    "```\n"
   ]
  },
  {
   "cell_type": "code",
   "execution_count": 1,
   "id": "feff9f82a794ed57",
   "metadata": {
    "ExecuteTime": {
     "end_time": "2025-05-10T03:43:05.563885Z",
     "start_time": "2025-05-10T03:43:05.550616Z"
    },
    "collapsed": false,
    "id": "feff9f82a794ed57",
    "jupyter": {
     "outputs_hidden": false
    }
   },
   "outputs": [],
   "source": [
    "# TODO: Import the libraries.\n",
    "from typing import Tuple, List\n",
    "import os\n",
    "import cv2\n",
    "from tqdm import tqdm\n",
    "import numpy as np\n",
    "import torch\n",
    "import torchvision\n",
    "import torch.nn as nn\n",
    "import torch.nn.functional as F\n",
    "from collections import OrderedDict\n",
    "import copy\n",
    "import matplotlib.pyplot as plt\n",
    "import csv"
   ]
  },
  {
   "cell_type": "markdown",
   "id": "129404feccd45358",
   "metadata": {
    "collapsed": false,
    "id": "129404feccd45358",
    "jupyter": {
     "outputs_hidden": false
    }
   },
   "source": [
    "## Step 1 Preprocessing\n",
    "1. Load images and labels from folders into lists.\n",
    "2. Resize the images.\n",
    "3. Convert the image data type as float32 and limit the range in [0, 1].\n",
    "4. Convert data from NHWC to NCHW and creat a PyTorch tensor from it.\n",
    "5. Per-channel standardization of the dataset using training set statistics (mean and std computed independently for each color channel).\n",
    "6. Saving the pre-processed sets as .pt files in the correct directory.\n",
    "7. Load the pre-processed sets from .pt files."
   ]
  },
  {
   "cell_type": "code",
   "execution_count": 2,
   "id": "initial_id",
   "metadata": {
    "ExecuteTime": {
     "end_time": "2025-05-10T03:38:13.117713Z",
     "start_time": "2025-05-10T03:38:13.110009Z"
    },
    "id": "initial_id"
   },
   "outputs": [],
   "source": [
    "# TODO: 1. Load images from folder into a list.\n",
    "def image_loader(set_dir: str) -> Tuple[List[np.ndarray], List[str]]:\n",
    "    \"\"\"\n",
    "    Load all images from a dataset directory (train/val/test) into memory.\n",
    "    Make sure:\n",
    "        1. Load training and validation set images and labels in the correct order.\n",
    "        2. Load testing set images in filename order (e.g., 0.jpg, 1.jpg, ...).\n",
    "\n",
    "    Parameters:\n",
    "    -----------\n",
    "    set_dir : str\n",
    "        Path to the directory containing either:\n",
    "        - Class subdirectories (for train/val sets)\n",
    "        - Direct image files (for test set)\n",
    "\n",
    "    Returns:\n",
    "    --------\n",
    "    Tuple[List[np.ndarray], List[str]]\n",
    "        images: List of BGR images (HWC format, uint8 dtype)\n",
    "        labels: List of string labels (empty for test set)\n",
    "\n",
    "    Example:\n",
    "    --------\n",
    "    >>> images_train, labels_train = image_loader(\"../dataset_split/train\")\n",
    "    >>> images_test, _ = image_loader(\"../dataset_split/test\")\n",
    "    \"\"\"\n",
    "    images, labels = [], []\n",
    "    \n",
    "    # List all valid items (exclude hidden files)\n",
    "    all_items = [f for f in os.listdir(set_dir) if not f.startswith(\".\")]\n",
    "    all_items.sort()\n",
    "    \n",
    "    # Check whether there are subdirectories\n",
    "    sub_dirs = [d for d in all_items if os.path.isdir(os.path.join(set_dir, d))]\n",
    "    \n",
    "    if sub_dirs:  # ➜ Train / Val mode\n",
    "        for class_name in sub_dirs:\n",
    "            class_dir = os.path.join(set_dir, class_name)\n",
    "            for img_name in sorted(os.listdir(class_dir)):\n",
    "                if not img_name.lower().endswith((\".jpg\", \".jpeg\", \".png\")):\n",
    "                    continue\n",
    "                img_path = os.path.join(class_dir, img_name)\n",
    "                img = cv2.imread(img_path)\n",
    "                if img is not None:\n",
    "                    images.append(img)\n",
    "                    labels.append(class_name)\n",
    "                else:\n",
    "                    print(f\"[Warn] Failed to load {img_path}\")\n",
    "    else:  # ➜ Test mode (flat image files)\n",
    "        img_files = [f for f in all_items if f.lower().endswith((\".jpg\", \".jpeg\", \".png\"))]\n",
    "        # Sort numerically if filenames are digits (e.g. 0.jpg, 1.jpg ...), otherwise alphabetically\n",
    "        try:\n",
    "            img_files.sort(key=lambda x: int(os.path.splitext(x)[0]))\n",
    "        except ValueError:\n",
    "            img_files.sort()\n",
    "        for img_name in img_files:\n",
    "            img_path = os.path.join(set_dir, img_name)\n",
    "            img = cv2.imread(img_path)\n",
    "            if img is not None:\n",
    "                images.append(img)\n",
    "            else:\n",
    "                print(f\"[Warn] Failed to load {img_path}\")\n",
    "    \n",
    "    return images, labels\n"
   ]
  },
  {
   "cell_type": "code",
   "execution_count": 3,
   "id": "e9151a560c344fe2",
   "metadata": {
    "ExecuteTime": {
     "end_time": "2025-05-10T03:38:13.472357Z",
     "start_time": "2025-05-10T03:38:13.460924Z"
    },
    "collapsed": false,
    "id": "e9151a560c344fe2",
    "jupyter": {
     "outputs_hidden": false
    }
   },
   "outputs": [],
   "source": [
    "# TODO: 2. Resize images.\n",
    "def img_resize(images: List[np.ndarray], target_size: int = 224) -> np.ndarray:\n",
    "    \"\"\"\n",
    "    Resize images with the shortest edge to target_size and perform center cropping to square dimensions.\n",
    "\n",
    "    Args:\n",
    "        images: List of input images in BGR format (OpenCV default) with shape (H, W, C)\n",
    "        target_size: Desired output size (both width and height after cropping). Default 224.\n",
    "\n",
    "    Returns:\n",
    "        Stacked numpy array of processed images with shape (N, target_size, target_size, 3)\n",
    "        where N is the number of input images\n",
    "\n",
    "    Raises:\n",
    "        ValueError: If input images have inconsistent channels or invalid dimensions\n",
    "\n",
    "    Notes:\n",
    "        - Preserves original aspect ratio during resizing\n",
    "        - Performs center cropping to exact square dimensions\n",
    "        - Maintains uint8 dtype unless conversion forces float32\n",
    "\n",
    "    Example:\n",
    "        >>> imgs = [cv2.imread('test.jpg')]  # List of BGR images\n",
    "        >>> processed = img_resize(imgs)\n",
    "        >>> processed.shape  # (1, 224, 224, 3)\n",
    "    \"\"\"\n",
    "    if not images:\n",
    "        return np.array([])\n",
    "\n",
    "    #  Verify the first image has at least 3 dimensions (H, W, C).\n",
    "    first_shape = images[0].shape\n",
    "    if len(first_shape) != 3:\n",
    "        raise ValueError(\"Each input image must have shape (H, W, C).\")\n",
    "\n",
    "    expected_channels = first_shape[2]           # usually 3 for colour images\n",
    "\n",
    "    for idx, img in enumerate(images):\n",
    "        # Dimension check\n",
    "        if len(img.shape) != 3:\n",
    "            raise ValueError(\n",
    "                f\"Image at index {idx} has invalid shape {img.shape}; \"\n",
    "                \"expected (H, W, C).\"\n",
    "            )\n",
    "        # Channel-count check\n",
    "        if img.shape[2] != expected_channels:\n",
    "            raise ValueError(\n",
    "                f\"Inconsistent channels: image 0 has {expected_channels}, \"\n",
    "                f\"image {idx} has {img.shape[2]}.\"\n",
    "            )\n",
    "    \n",
    "    processed_images = []\n",
    "    for img in images:\n",
    "        h, w = img.shape[:2]\n",
    "        # Scale so that the shorter edge == target_size\n",
    "        scale = target_size / min(h, w)\n",
    "        new_w, new_h = int(round(w * scale)), int(round(h * scale))\n",
    "        img_resized = cv2.resize(img, (new_w, new_h), interpolation=cv2.INTER_AREA)\n",
    "\n",
    "        # Centre-crop to target_size × target_size\n",
    "        start_x = (new_w - target_size) // 2\n",
    "        start_y = (new_h - target_size) // 2\n",
    "        img_cropped = img_resized[start_y:start_y + target_size,\n",
    "                                  start_x:start_x + target_size]\n",
    "        processed_images.append(img_cropped)\n",
    "\n",
    "    return np.stack(processed_images)"
   ]
  },
  {
   "cell_type": "code",
   "execution_count": 4,
   "id": "bd1862b268144556",
   "metadata": {
    "ExecuteTime": {
     "end_time": "2025-05-10T03:38:39.249145Z",
     "start_time": "2025-05-10T03:38:14.305937Z"
    },
    "colab": {
     "base_uri": "https://localhost:8080/",
     "height": 402
    },
    "collapsed": false,
    "id": "bd1862b268144556",
    "jupyter": {
     "outputs_hidden": false
    },
    "outputId": "9902b5e8-be01-4bc6-fb36-12538503f05c"
   },
   "outputs": [
    {
     "name": "stdout",
     "output_type": "stream",
     "text": [
      "# Train images: 7800\n",
      "# Train labels: 7800\n",
      "Unique labels: {'rugby', 'sunglasses', 'tiger_cat', 'african_elephant', 'convertible_car', 'goldfish', 'golden_retriever', 'parachute', 'airliner', 'banana'}\n"
     ]
    }
   ],
   "source": [
    "# Load images\n",
    "\n",
    "images_train, labels_train = image_loader(r\"D:\\Phase-2-Data-Science-FengJiang-main\\3. Deep Learning Project\\dataset_split\\train\")\n",
    "images_val, labels_val = image_loader(r\"D:\\Phase-2-Data-Science-FengJiang-main\\3. Deep Learning Project\\dataset_split\\val\")\n",
    "images_test, _ = image_loader(r\"D:\\Phase-2-Data-Science-FengJiang-main\\3. Deep Learning Project\\dataset_split\\test\")\n",
    "\n",
    "print(f\"# Train images: {len(images_train)}\")\n",
    "print(f\"# Train labels: {len(labels_train)}\")\n",
    "print(f\"Unique labels: {set(labels_train)}\")"
   ]
  },
  {
   "cell_type": "code",
   "execution_count": 5,
   "id": "1975435fea13d751",
   "metadata": {
    "ExecuteTime": {
     "end_time": "2025-05-10T03:39:17.095684Z",
     "start_time": "2025-05-10T03:38:57.883480Z"
    },
    "collapsed": false,
    "id": "1975435fea13d751",
    "jupyter": {
     "outputs_hidden": false
    }
   },
   "outputs": [],
   "source": [
    "# Resize the images\n",
    "\n",
    "images_train = img_resize(images_train, 224)\n",
    "images_val = img_resize(images_val, 224)\n",
    "images_test = img_resize(images_test, 224)"
   ]
  },
  {
   "cell_type": "code",
   "execution_count": 6,
   "id": "0b8e3097-c2ca-4d39-aada-78743fd51a9f",
   "metadata": {},
   "outputs": [],
   "source": [
    "from torchvision import transforms as T\n",
    "\n",
    "# -------- Training augmentation --------\n",
    "# English comments, as per your preference\n",
    "train_transform = T.Compose([\n",
    "    T.ToPILImage(),                                # convert ndarray → PIL\n",
    "    T.RandomResizedCrop(224, scale=(0.5, 1.0)),    # random crop & scale\n",
    "    T.RandomHorizontalFlip(p=0.5),                 # flip with 50 % chance\n",
    "    T.ColorJitter(brightness=0.2,\n",
    "                  contrast=0.2,\n",
    "                  saturation=0.2,\n",
    "                  hue=0.1),                        # colour jitter\n",
    "    T.ToTensor(),                                  # to tensor (C,H,W)\n",
    "    T.RandomErasing(p=0.25,\n",
    "                    scale=(0.02, 0.2),\n",
    "                    ratio=(0.3, 3.3),\n",
    "                    value=0),                      # erase random patch\n",
    "])\n",
    "\n",
    "# -------- Validation / Test (no augmentation, just resize) --------\n",
    "val_test_transform = T.Compose([\n",
    "    T.ToPILImage(),\n",
    "    T.Resize((224, 224)),\n",
    "    T.ToTensor(),\n",
    "])\n"
   ]
  },
  {
   "cell_type": "code",
   "execution_count": 7,
   "id": "bd71fcddecfefdbf",
   "metadata": {
    "ExecuteTime": {
     "end_time": "2025-05-10T03:39:20.788788Z",
     "start_time": "2025-05-10T03:39:17.097418Z"
    },
    "collapsed": false,
    "id": "bd71fcddecfefdbf",
    "jupyter": {
     "outputs_hidden": false
    }
   },
   "outputs": [],
   "source": [
    "# TODO: 3. Convert the image data type as float32 and limit the range in [0, 1].\n",
    "\n",
    "images_train = [img.astype(np.float32) / 255.0 for img in images_train]\n",
    "images_val   = [img.astype(np.float32) / 255.0 for img in images_val]\n",
    "images_test  = [img.astype(np.float32) / 255.0 for img in images_test]\n",
    "\n",
    "# Resize the images\n",
    "images_train = img_resize(images_train, 224)\n",
    "images_val = img_resize(images_val, 224)\n",
    "images_test = img_resize(images_test, 224)"
   ]
  },
  {
   "cell_type": "code",
   "execution_count": 8,
   "id": "1938cec6018a8176",
   "metadata": {
    "ExecuteTime": {
     "end_time": "2025-05-10T03:39:21.156559Z",
     "start_time": "2025-05-10T03:39:20.789492Z"
    },
    "collapsed": false,
    "id": "1938cec6018a8176",
    "jupyter": {
     "outputs_hidden": false
    }
   },
   "outputs": [],
   "source": [
    "# TODO: 4. Convert data from NHWC to NCHW and creat a PyTorch tensor from it.\n",
    "\n",
    "tensor_train = torch.from_numpy(images_train.transpose(0, 3, 1, 2))  # N, C, H, W\n",
    "tensor_val   = torch.from_numpy(images_val.transpose(0, 3, 1, 2))\n",
    "tensor_test  = torch.from_numpy(images_test.transpose(0, 3, 1, 2))"
   ]
  },
  {
   "cell_type": "code",
   "execution_count": 9,
   "id": "d584e1b61e015747",
   "metadata": {
    "ExecuteTime": {
     "end_time": "2025-05-10T03:39:32.523629Z",
     "start_time": "2025-05-10T03:39:21.158863Z"
    },
    "collapsed": false,
    "id": "d584e1b61e015747",
    "jupyter": {
     "outputs_hidden": false
    }
   },
   "outputs": [],
   "source": [
    "# TODO: 5. Per-channel standardization of the dataset using training set statistics (mean and std computed independently for each color channel).\n",
    "\n",
    "train_mean = tensor_train.mean(dim=[0, 2, 3])\n",
    "train_std  = tensor_train.std(dim=[0, 2, 3])\n",
    "\n",
    "tensor_train = (tensor_train - train_mean[None, :, None, None]) / train_std[None, :, None, None]\n",
    "tensor_val   = (tensor_val   - train_mean[None, :, None, None]) / train_std[None, :, None, None]\n",
    "tensor_test  = (tensor_test  - train_mean[None, :, None, None]) / train_std[None, :, None, None]"
   ]
  },
  {
   "cell_type": "code",
   "execution_count": 10,
   "id": "9f7a684ba9e6561c",
   "metadata": {
    "ExecuteTime": {
     "end_time": "2025-05-10T03:39:41.944582Z",
     "start_time": "2025-05-10T03:39:32.524747Z"
    },
    "collapsed": false,
    "id": "9f7a684ba9e6561c",
    "jupyter": {
     "outputs_hidden": false
    }
   },
   "outputs": [],
   "source": [
    "# TODO: 6. Save the pre-processed sets as .pt files.\n",
    "\n",
    "# 6.1 Save the tensor_train, tensor_val, and tensor_test as tensor_train.pt, tensor_val.pt, and tensor_test.pt, respectively.\n",
    "os.makedirs(\"D:/Phase-2-Data-Science-FengJiang-main/3. Deep Learning Project/data_preprocessed\", exist_ok=True)\n",
    "torch.save(tensor_train, \"D:/Phase-2-Data-Science-FengJiang-main/3. Deep Learning Project/data_preprocessed/tensor_train.pt\")\n",
    "torch.save(tensor_val,   \"D:/Phase-2-Data-Science-FengJiang-main/3. Deep Learning Project/data_preprocessed/tensor_val.pt\")\n",
    "torch.save(tensor_test,  \"D:/Phase-2-Data-Science-FengJiang-main/3. Deep Learning Project/data_preprocessed/tensor_test.pt\")\n",
    "\n",
    "# 6.2 Create a list to map index to label and a dictionary to map label to index.\n",
    "#   For instance:\n",
    "#       unique_labels = ['african_elephant', 'airliner', ...]\n",
    "#       label_to_index = {\n",
    "#           'african_elephant': 0,\n",
    "#           'airliner': 1,\n",
    "#           ...\n",
    "#       }\n",
    "unique_labels  = sorted(list(set(labels_train)))\n",
    "label_to_index = {label: idx for idx, label in enumerate(unique_labels)}\n",
    "index_to_label = {idx: label for label, idx in label_to_index.items()}\n",
    "\n",
    "# 6.3 Map the labels to index.\n",
    "labels_train_index = torch.tensor([label_to_index[lbl] for lbl in labels_train], dtype=torch.long)\n",
    "labels_val_index   = torch.tensor([label_to_index[lbl] for lbl in labels_val],   dtype=torch.long)\n",
    "\n",
    "# 6.4 Save the index, label_to_index, and index_to_label.\n",
    "torch.save(labels_train_index, \"D:/Phase-2-Data-Science-FengJiang-main/3. Deep Learning Project/data_preprocessed/labels_train.pt\")\n",
    "torch.save(labels_val_index,   \"D:/Phase-2-Data-Science-FengJiang-main/3. Deep Learning Project/data_preprocessed/labels_val.pt\")\n",
    "torch.save(label_to_index,     \"D:/Phase-2-Data-Science-FengJiang-main/3. Deep Learning Project/data_preprocessed/label_to_index.pt\")\n",
    "torch.save(index_to_label,     \"D:/Phase-2-Data-Science-FengJiang-main/3. Deep Learning Project/data_preprocessed/index_to_label.pt\")\n"
   ]
  },
  {
   "cell_type": "code",
   "execution_count": 11,
   "id": "a3a5a646027a826",
   "metadata": {
    "ExecuteTime": {
     "end_time": "2025-05-10T03:39:45.192760Z",
     "start_time": "2025-05-10T03:39:41.946771Z"
    },
    "collapsed": false,
    "id": "a3a5a646027a826",
    "jupyter": {
     "outputs_hidden": false
    }
   },
   "outputs": [],
   "source": [
    "# TODO: 7. Load the pre-processed sets from .pt files. The data can be used directly in future without pre-processing once more by loading from the folder.\n",
    "tensor_train = torch.load(\"D:/Phase-2-Data-Science-FengJiang-main/3. Deep Learning Project/data_preprocessed/tensor_train.pt\", weights_only=False)\n",
    "tensor_val   = torch.load(\"D:/Phase-2-Data-Science-FengJiang-main/3. Deep Learning Project/data_preprocessed/tensor_val.pt\", weights_only=False)\n",
    "tensor_test  = torch.load(\"D:/Phase-2-Data-Science-FengJiang-main/3. Deep Learning Project/data_preprocessed/tensor_test.pt\", weights_only=False)\n",
    "labels_train_index = torch.load(\"D:/Phase-2-Data-Science-FengJiang-main/3. Deep Learning Project/data_preprocessed/labels_train.pt\", weights_only=False)\n",
    "labels_val_index   = torch.load(\"D:/Phase-2-Data-Science-FengJiang-main/3. Deep Learning Project/data_preprocessed/labels_val.pt\", weights_only=False)"
   ]
  },
  {
   "cell_type": "markdown",
   "id": "f5cb7cfa317410ff",
   "metadata": {
    "collapsed": false,
    "id": "f5cb7cfa317410ff",
    "jupyter": {
     "outputs_hidden": false
    }
   },
   "source": [
    "# Step 2 Train the teacher model (ResNet34)\n",
    "1. Set hyperparameters for the training process.\n",
    "2. Create a pretrained ResNet34.\n",
    "3. Define the optimizer, loss function, etc.\n",
    "4. Train ResNet34 and save the best-performing parameters to 'resnet34_checkpoint.pkl'.\n",
    "5. Plot the loss and accuracy curves."
   ]
  },
  {
   "cell_type": "code",
   "execution_count": 12,
   "id": "745979a1b12465eb",
   "metadata": {
    "ExecuteTime": {
     "end_time": "2025-05-10T01:43:51.705549Z",
     "start_time": "2025-05-10T01:43:51.663106Z"
    },
    "collapsed": false,
    "id": "745979a1b12465eb",
    "jupyter": {
     "outputs_hidden": false
    }
   },
   "outputs": [
    {
     "name": "stdout",
     "output_type": "stream",
     "text": [
      "tensor(10)\n",
      "torch.Size([7800, 3, 224, 224])\n",
      "torch.Size([2600, 3, 224, 224])\n",
      "torch.Size([2600, 3, 224, 224])\n",
      "torch.Size([7800])\n",
      "torch.Size([2600])\n"
     ]
    }
   ],
   "source": [
    "# Verify data shapes\n",
    "\n",
    "num_classes = max(labels_train_index) + 1\n",
    "print(num_classes)\n",
    "print(tensor_train.shape)\n",
    "print(tensor_val.shape)\n",
    "print(tensor_test.shape)\n",
    "print(labels_train_index.shape)\n",
    "print(labels_val_index.shape)"
   ]
  },
  {
   "cell_type": "code",
   "execution_count": 13,
   "id": "507aa43e1a3701b5",
   "metadata": {
    "ExecuteTime": {
     "end_time": "2025-05-10T01:43:52.604546Z",
     "start_time": "2025-05-10T01:43:52.600245Z"
    },
    "collapsed": false,
    "id": "507aa43e1a3701b5",
    "jupyter": {
     "outputs_hidden": false
    }
   },
   "outputs": [],
   "source": [
    "# TODO: 1. Set hyperparameters for the training process.\n",
    "\n",
    "MAX_EPOCH   = 25          # you can adjust (e.g., 8-15)\n",
    "INIT_LR     = 1e-5        # initial learning rate\n",
    "BATCH_SIZE  = 64          # batch size for DataLoader\n",
    "\n",
    "# Specify the training device (automatically detects GPU if available)\n",
    "# Usage example:\n",
    "#   tensor = tensor.to(device)  # Moves tensor to selected device\n",
    "device = torch.device(\"cuda\" if torch.cuda.is_available() else \"cpu\")"
   ]
  },
  {
   "cell_type": "code",
   "execution_count": 14,
   "id": "c8b9bf9ed5ae5cf9",
   "metadata": {
    "ExecuteTime": {
     "end_time": "2025-05-10T01:43:55.541802Z",
     "start_time": "2025-05-10T01:43:55.291383Z"
    },
    "collapsed": false,
    "id": "c8b9bf9ed5ae5cf9",
    "jupyter": {
     "outputs_hidden": false
    }
   },
   "outputs": [],
   "source": [
    "# TODO: 2. Create a pretrained ResNet34.\n",
    "\n",
    "# 2.1 Use torchvision to create a pretrained ResNet34.\n",
    "resnet34 = resnet34 = torchvision.models.resnet34(weights=torchvision.models.ResNet34_Weights.DEFAULT)\n",
    "\n",
    "# 2.2 Modify the output layer so that the model aligns with this project.\n",
    "resnet34.fc = nn.Linear(resnet34.fc.in_features, int(num_classes))  # num_classes = 10\n",
    "\n",
    "# 2.2 Move the model to selected device.\n",
    "resnet34 = resnet34.to(device)"
   ]
  },
  {
   "cell_type": "code",
   "execution_count": 15,
   "id": "70de5ac59beb12d",
   "metadata": {
    "ExecuteTime": {
     "end_time": "2025-05-10T01:43:56.555839Z",
     "start_time": "2025-05-10T01:43:56.542721Z"
    },
    "collapsed": false,
    "id": "70de5ac59beb12d",
    "jupyter": {
     "outputs_hidden": false
    }
   },
   "outputs": [],
   "source": [
    "# TODO: 3. Define the optimizer, loss function, etc.\n",
    "\n",
    "optimizer = torch.optim.Adam(resnet34.parameters(), lr=INIT_LR)\n",
    "criterion = nn.CrossEntropyLoss()\n",
    "\n",
    "# Create DataLoaders from tensors\n",
    "train_ds = torch.utils.data.TensorDataset(tensor_train, labels_train_index)\n",
    "val_ds   = torch.utils.data.TensorDataset(tensor_val,   labels_val_index)\n",
    "\n",
    "train_loader = torch.utils.data.DataLoader(train_ds, batch_size=BATCH_SIZE, shuffle=True,  num_workers=4, pin_memory=True)\n",
    "val_loader   = torch.utils.data.DataLoader(val_ds,   batch_size=BATCH_SIZE, shuffle=False, num_workers=4, pin_memory=True)"
   ]
  },
  {
   "cell_type": "code",
   "execution_count": 16,
   "id": "65a797debcc531db",
   "metadata": {
    "collapsed": false,
    "id": "65a797debcc531db",
    "jupyter": {
     "outputs_hidden": false
    }
   },
   "outputs": [
    {
     "name": "stdout",
     "output_type": "stream",
     "text": [
      "Epoch [1/25] Train Loss: 0.8671  Train Acc: 0.8210  Val Loss: 0.2599  Val Acc: 0.9604\n",
      "Epoch [2/25] Train Loss: 0.1812  Train Acc: 0.9726  Val Loss: 0.1344  Val Acc: 0.9742\n",
      "Epoch [3/25] Train Loss: 0.0966  Train Acc: 0.9846  Val Loss: 0.0989  Val Acc: 0.9773\n",
      "Epoch [4/25] Train Loss: 0.0529  Train Acc: 0.9940  Val Loss: 0.0825  Val Acc: 0.9815\n",
      "Epoch [5/25] Train Loss: 0.0328  Train Acc: 0.9972  Val Loss: 0.0734  Val Acc: 0.9819\n",
      "Epoch [6/25] Train Loss: 0.0237  Train Acc: 0.9981  Val Loss: 0.0679  Val Acc: 0.9831\n",
      "Epoch [7/25] Train Loss: 0.0168  Train Acc: 0.9991  Val Loss: 0.0643  Val Acc: 0.9827\n",
      "Epoch [8/25] Train Loss: 0.0138  Train Acc: 0.9995  Val Loss: 0.0634  Val Acc: 0.9846\n",
      "Epoch [9/25] Train Loss: 0.0091  Train Acc: 0.9997  Val Loss: 0.0621  Val Acc: 0.9838\n",
      "Epoch [10/25] Train Loss: 0.0085  Train Acc: 0.9996  Val Loss: 0.0593  Val Acc: 0.9831\n",
      "Epoch [11/25] Train Loss: 0.0067  Train Acc: 0.9999  Val Loss: 0.0609  Val Acc: 0.9819\n",
      "Epoch [12/25] Train Loss: 0.0054  Train Acc: 1.0000  Val Loss: 0.0586  Val Acc: 0.9823\n",
      "Epoch [13/25] Train Loss: 0.0047  Train Acc: 1.0000  Val Loss: 0.0601  Val Acc: 0.9819\n",
      "Epoch [14/25] Train Loss: 0.0039  Train Acc: 1.0000  Val Loss: 0.0594  Val Acc: 0.9823\n",
      "Epoch [15/25] Train Loss: 0.0035  Train Acc: 1.0000  Val Loss: 0.0594  Val Acc: 0.9827\n",
      "Epoch [16/25] Train Loss: 0.0034  Train Acc: 1.0000  Val Loss: 0.0589  Val Acc: 0.9819\n",
      "Epoch [17/25] Train Loss: 0.0027  Train Acc: 1.0000  Val Loss: 0.0604  Val Acc: 0.9823\n",
      "Epoch [18/25] Train Loss: 0.0024  Train Acc: 1.0000  Val Loss: 0.0610  Val Acc: 0.9838\n",
      "Epoch [19/25] Train Loss: 0.0021  Train Acc: 1.0000  Val Loss: 0.0605  Val Acc: 0.9819\n",
      "Epoch [20/25] Train Loss: 0.0020  Train Acc: 1.0000  Val Loss: 0.0580  Val Acc: 0.9819\n",
      "Epoch [21/25] Train Loss: 0.0019  Train Acc: 1.0000  Val Loss: 0.0598  Val Acc: 0.9823\n",
      "Epoch [22/25] Train Loss: 0.0016  Train Acc: 1.0000  Val Loss: 0.0574  Val Acc: 0.9819\n",
      "Epoch [23/25] Train Loss: 0.0015  Train Acc: 1.0000  Val Loss: 0.0606  Val Acc: 0.9831\n",
      "Epoch [24/25] Train Loss: 0.0015  Train Acc: 1.0000  Val Loss: 0.0616  Val Acc: 0.9831\n",
      "Epoch [25/25] Train Loss: 0.0013  Train Acc: 1.0000  Val Loss: 0.0585  Val Acc: 0.9827\n"
     ]
    }
   ],
   "source": [
    "# TODO: 4. Train ResNet34 and save the best-performing parameters to 'resnet34_checkpoint.pkl'.\n",
    "# Hint: May not need too many epochs as this is a pretrained model.\n",
    "train_accs_resnet34, train_losses_resnet34, val_accs_resnet34, val_losses_resnet34 = [], [], [], []\n",
    "\n",
    "best_val_acc = 0.0\n",
    "for epoch in range(MAX_EPOCH):\n",
    "    # ---- Training ----\n",
    "    resnet34.train()\n",
    "    running_loss, running_correct = 0.0, 0\n",
    "    for imgs, lbls in train_loader:\n",
    "        imgs, lbls = imgs.to(device), lbls.to(device)\n",
    "        optimizer.zero_grad()\n",
    "        outputs = resnet34(imgs)\n",
    "        loss = criterion(outputs, lbls)\n",
    "        loss.backward()\n",
    "        optimizer.step()\n",
    "\n",
    "        running_loss    += loss.item() * imgs.shape[0]\n",
    "        running_correct += (outputs.argmax(1) == lbls).sum().item()\n",
    "\n",
    "    epoch_loss = running_loss / tensor_train.shape[0]\n",
    "    epoch_acc  = running_correct / tensor_train.shape[0]\n",
    "    train_losses_resnet34.append(epoch_loss)\n",
    "    train_accs_resnet34.append(epoch_acc)\n",
    "\n",
    "    # ---- Validation ----\n",
    "    resnet34.eval()\n",
    "    val_running_loss, val_running_correct = 0.0, 0\n",
    "    with torch.no_grad():\n",
    "        for imgs, lbls in val_loader:\n",
    "            imgs, lbls = imgs.to(device), lbls.to(device)\n",
    "            outputs = resnet34(imgs)\n",
    "            loss = criterion(outputs, lbls)\n",
    "\n",
    "            val_running_loss    += loss.item() * imgs.shape[0]\n",
    "            val_running_correct += (outputs.argmax(1) == lbls).sum().item()\n",
    "\n",
    "    val_loss = val_running_loss / tensor_val.shape[0]\n",
    "    val_acc  = val_running_correct / tensor_val.shape[0]\n",
    "    val_losses_resnet34.append(val_loss)\n",
    "    val_accs_resnet34.append(val_acc)\n",
    "\n",
    "    print(f\"Epoch [{epoch+1}/{MAX_EPOCH}] \"\n",
    "          f\"Train Loss: {epoch_loss:.4f}  Train Acc: {epoch_acc:.4f}  \"\n",
    "          f\"Val Loss: {val_loss:.4f}  Val Acc: {val_acc:.4f}\")\n",
    "\n",
    "    # save best model\n",
    "    if val_acc > best_val_acc:\n",
    "        best_val_acc = val_acc\n",
    "        torch.save(resnet34.state_dict(), \"resnet34_checkpoint.pkl\")\n"
   ]
  },
  {
   "cell_type": "code",
   "execution_count": 17,
   "id": "bb5a3089891cf4a3",
   "metadata": {
    "collapsed": false,
    "id": "bb5a3089891cf4a3",
    "jupyter": {
     "outputs_hidden": false
    }
   },
   "outputs": [
    {
     "data": {
      "image/png": "[encoded data removed]",
      "text/plain": [
       "<Figure size 600x900 with 2 Axes>"
      ]
     },
     "metadata": {},
     "output_type": "display_data"
    }
   ],
   "source": [
    "# TODO: 5. Plot the loss and accuracy curves.\n",
    "# ==== Plot ResNet34 curves ====\n",
    "plt.figure(figsize=(6, 9))\n",
    "\n",
    "# -------- Loss subplot --------\n",
    "plt.subplot(2, 1, 1)\n",
    "plt.plot(train_losses_resnet34, label=\"ResNet34 Training Loss\")\n",
    "plt.plot(val_losses_resnet34,   label=\"ResNet34 Validation Loss\")\n",
    "plt.xlabel(\"Epoch\")\n",
    "plt.ylabel(\"Loss\")\n",
    "plt.title(\"ResNet34 Loss\")\n",
    "plt.legend()\n",
    "plt.grid(alpha=0.3)\n",
    "\n",
    "# -------- Accuracy subplot --------\n",
    "plt.subplot(2, 1, 2)\n",
    "plt.plot(train_accs_resnet34, label=\"ResNet34 Training Accuracy\")\n",
    "plt.plot(val_accs_resnet34,   label=\"ResNet34 Validation Accuracy\")\n",
    "plt.xlabel(\"Epoch\")\n",
    "plt.ylabel(\"Accuracy\")\n",
    "plt.title(\"ResNet34 Accuracy\")\n",
    "plt.legend()\n",
    "plt.grid(alpha=0.3)\n",
    "\n",
    "plt.tight_layout()\n",
    "plt.show()\n"
   ]
  },
  {
   "cell_type": "markdown",
   "id": "897fa4102b57deab",
   "metadata": {
    "collapsed": false,
    "id": "897fa4102b57deab",
    "jupyter": {
     "outputs_hidden": false
    }
   },
   "source": [
    "# Step 3 Train the student model (ResNet18)\n",
    "1. Set hyperparameters for the distillation process.\n",
    "2. Create a NON-PRETRAINED ResNet18 and move the model to selected device.\n",
    "3. Load the saved ResNet34 and move the model to selected device.\n",
    "4. Define the optimizer, loss function, etc.\n",
    "5. Train ResNet18 and save the best-performing parameters to 'resnet18_checkpoint.pkl'.\n",
    "6. Plot the loss and accuracy curves."
   ]
  },
  {
   "cell_type": "code",
   "execution_count": 63,
   "id": "68482456ab9410f8",
   "metadata": {
    "ExecuteTime": {
     "end_time": "2025-05-10T01:57:38.370616Z",
     "start_time": "2025-05-10T01:57:38.341026Z"
    },
    "collapsed": false,
    "id": "68482456ab9410f8",
    "jupyter": {
     "outputs_hidden": false
    }
   },
   "outputs": [
    {
     "name": "stdout",
     "output_type": "stream",
     "text": [
      "tensor(10)\n",
      "torch.Size([7800, 3, 224, 224])\n",
      "torch.Size([2600, 3, 224, 224])\n",
      "torch.Size([2600, 3, 224, 224])\n",
      "torch.Size([7800])\n",
      "torch.Size([2600])\n"
     ]
    }
   ],
   "source": [
    "# Verify data shapes\n",
    "\n",
    "num_classes = max(labels_train_index) + 1\n",
    "print(num_classes)\n",
    "print(tensor_train.shape)\n",
    "print(tensor_val.shape)\n",
    "print(tensor_test.shape)\n",
    "print(labels_train_index.shape)\n",
    "print(labels_val_index.shape)"
   ]
  },
  {
   "cell_type": "code",
   "execution_count": 64,
   "id": "36a405975e022459",
   "metadata": {
    "ExecuteTime": {
     "end_time": "2025-05-10T01:57:39.329470Z",
     "start_time": "2025-05-10T01:57:39.294551Z"
    },
    "collapsed": false,
    "id": "36a405975e022459",
    "jupyter": {
     "outputs_hidden": false
    }
   },
   "outputs": [],
   "source": [
    "# TODO: 1. Set hyperparameters for the distillation process.\n",
    "\n",
    "MAX_EPOCH   = 40           # total epochs\n",
    "INIT_LR     = 1e-7          # initial learning rate\n",
    "BATCH_SIZE  = 128            # batch size\n",
    "device = torch.device(\"cuda\" if torch.cuda.is_available() else \"cpu\")\n",
    "\n",
    "TEMPERATURE = 6.0           # distillation temperature\n",
    "LOSS_RATIO  = 0.7          # weight for KD loss vs CE loss"
   ]
  },
  {
   "cell_type": "code",
   "execution_count": 65,
   "id": "e7d2325836c2cf7d",
   "metadata": {
    "ExecuteTime": {
     "end_time": "2025-05-10T01:57:43.030265Z",
     "start_time": "2025-05-10T01:57:42.861042Z"
    },
    "collapsed": false,
    "id": "e7d2325836c2cf7d",
    "jupyter": {
     "outputs_hidden": false
    }
   },
   "outputs": [],
   "source": [
    "# TODO: 2. Create a NON-PRETRAINED ResNet18 and move the model to selected device.\n",
    "\n",
    "import torchvision.models as models\n",
    "import torch.nn as nn\n",
    "\n",
    "# build a fresh student network (no pretrained weights)\n",
    "resnet18 = models.resnet18(weights=None)\n",
    "in_features = resnet18.fc.in_features  # 512 for ResNet18\n",
    "\n",
    "# add dropout before the final classifier to mitigate overfitting\n",
    "resnet18.fc = nn.Sequential(\n",
    "    nn.Dropout(p=0.3),                 # Drop  % of features\n",
    "    nn.Linear(in_features, int(num_classes))\n",
    ")\n",
    "\n",
    "# move model to GPU / CPU\n",
    "resnet18 = resnet18.to(device)\n",
    "\n",
    "# resnet18 = torchvision.models.resnet18(weights=None)\n",
    "# resnet18.fc = nn.Linear(resnet18.fc.in_features, int(num_classes))\n",
    "# resnet18 = resnet18.to(device)"
   ]
  },
  {
   "cell_type": "code",
   "execution_count": 66,
   "id": "b8092f5d5acce972",
   "metadata": {
    "collapsed": false,
    "id": "b8092f5d5acce972",
    "jupyter": {
     "outputs_hidden": false
    }
   },
   "outputs": [],
   "source": [
    "# TODO: 3. Load the saved ResNet34 and move the model to selected device.\n",
    "# Hint: Enable the evaluation mode to prevent updating the parameters.\n",
    "\n",
    "resnet34 = torchvision.models.resnet34(weights=None)\n",
    "resnet34.fc = nn.Linear(resnet34.fc.in_features, int(num_classes))\n",
    "resnet34.load_state_dict(torch.load(\"resnet34_checkpoint.pkl\", map_location=device, weights_only=False))\n",
    "resnet34 = resnet34.to(device)\n",
    "resnet34.eval()\n",
    "for p in resnet34.parameters():\n",
    "    p.requires_grad = False     # freeze teacher"
   ]
  },
  {
   "cell_type": "code",
   "execution_count": 67,
   "id": "f312a04da1e5ddf6",
   "metadata": {
    "ExecuteTime": {
     "end_time": "2025-05-10T01:57:49.170629Z",
     "start_time": "2025-05-10T01:57:49.152278Z"
    },
    "collapsed": false,
    "id": "f312a04da1e5ddf6",
    "jupyter": {
     "outputs_hidden": false
    }
   },
   "outputs": [],
   "source": [
    "# TODO: 4. Define the optimizer, loss function, etc.\n",
    "\n",
    "\n",
    "optimizer = torch.optim.AdamW(resnet18.parameters(), weight_decay=1e-4)\n",
    "scheduler  = torch.optim.lr_scheduler.StepLR(optimizer, step_size=5, gamma=0.9)\n",
    "# scheduler = torch.optim.lr_scheduler.CosineAnnealingLR(\n",
    "#     optimizer,\n",
    "#     T_max=MAX_EPOCH,   # one full cosine cycle across all epochs\n",
    "#     eta_min=1e-6       # final learning rate\n",
    "# )\n",
    "criterion_ce = nn.CrossEntropyLoss()\n",
    "criterion_kd = nn.KLDivLoss(reduction=\"batchmean\")\n",
    "\n",
    "# DataLoaders (reuse tensors)\n",
    "train_ds = torch.utils.data.TensorDataset(tensor_train, labels_train_index)\n",
    "val_ds   = torch.utils.data.TensorDataset(tensor_val,   labels_val_index)\n",
    "train_loader = torch.utils.data.DataLoader(train_ds, batch_size=BATCH_SIZE, shuffle=True,  num_workers=4, pin_memory=True)\n",
    "val_loader   = torch.utils.data.DataLoader(val_ds,   batch_size=BATCH_SIZE, shuffle=False, num_workers=4, pin_memory=True)"
   ]
  },
  {
   "cell_type": "code",
   "execution_count": 68,
   "id": "3c17f3f9eb662cef",
   "metadata": {
    "id": "3c17f3f9eb662cef",
    "scrolled": true
   },
   "outputs": [
    {
     "name": "stdout",
     "output_type": "stream",
     "text": [
      "Epoch [1/40] Train Loss: 3.1725  Train Acc: 0.5194  Val Loss: 3.1520  Val Acc: 0.5062\n",
      "Epoch [2/40] Train Loss: 2.3855  Train Acc: 0.6551  Val Loss: 2.2653  Val Acc: 0.6585\n",
      "Epoch [3/40] Train Loss: 2.0661  Train Acc: 0.7105  Val Loss: 2.1282  Val Acc: 0.6815\n",
      "Epoch [4/40] Train Loss: 1.7917  Train Acc: 0.7524  Val Loss: 1.9551  Val Acc: 0.6908\n",
      "Epoch [5/40] Train Loss: 1.6128  Train Acc: 0.7865  Val Loss: 2.7598  Val Acc: 0.5473\n",
      "Epoch [6/40] Train Loss: 1.5081  Train Acc: 0.7967  Val Loss: 1.5145  Val Acc: 0.7588\n",
      "Epoch [7/40] Train Loss: 1.3797  Train Acc: 0.8156  Val Loss: 1.3682  Val Acc: 0.7900\n",
      "Epoch [8/40] Train Loss: 1.2390  Train Acc: 0.8354  Val Loss: 1.5843  Val Acc: 0.7492\n",
      "Epoch [9/40] Train Loss: 1.1211  Train Acc: 0.8528  Val Loss: 1.2934  Val Acc: 0.7950\n",
      "Epoch [10/40] Train Loss: 1.0480  Train Acc: 0.8678  Val Loss: 1.4786  Val Acc: 0.7723\n",
      "Epoch [11/40] Train Loss: 0.9625  Train Acc: 0.8804  Val Loss: 1.4268  Val Acc: 0.7719\n",
      "Epoch [12/40] Train Loss: 0.8488  Train Acc: 0.8987  Val Loss: 1.1246  Val Acc: 0.8288\n",
      "Epoch [13/40] Train Loss: 0.8092  Train Acc: 0.9058  Val Loss: 1.1281  Val Acc: 0.8273\n",
      "Epoch [14/40] Train Loss: 0.6782  Train Acc: 0.9265  Val Loss: 1.3485  Val Acc: 0.7873\n",
      "Epoch [15/40] Train Loss: 0.6325  Train Acc: 0.9314  Val Loss: 0.9757  Val Acc: 0.8458\n",
      "Epoch [16/40] Train Loss: 0.4999  Train Acc: 0.9532  Val Loss: 1.0614  Val Acc: 0.8308\n",
      "Epoch [17/40] Train Loss: 0.4485  Train Acc: 0.9599  Val Loss: 1.6957  Val Acc: 0.7473\n",
      "Epoch [18/40] Train Loss: 0.3798  Train Acc: 0.9724  Val Loss: 0.9190  Val Acc: 0.8612\n",
      "Epoch [19/40] Train Loss: 0.3477  Train Acc: 0.9763  Val Loss: 1.1127  Val Acc: 0.8238\n",
      "Epoch [20/40] Train Loss: 0.3333  Train Acc: 0.9799  Val Loss: 1.0599  Val Acc: 0.8338\n",
      "Epoch [21/40] Train Loss: 0.2628  Train Acc: 0.9862  Val Loss: 0.7936  Val Acc: 0.8762\n",
      "Epoch [22/40] Train Loss: 0.2260  Train Acc: 0.9927  Val Loss: 0.9050  Val Acc: 0.8596\n",
      "Epoch [23/40] Train Loss: 0.2121  Train Acc: 0.9929  Val Loss: 0.9469  Val Acc: 0.8542\n",
      "Epoch [24/40] Train Loss: 0.2086  Train Acc: 0.9951  Val Loss: 0.7864  Val Acc: 0.8723\n",
      "Epoch [25/40] Train Loss: 0.2003  Train Acc: 0.9946  Val Loss: 0.9553  Val Acc: 0.8458\n",
      "Epoch [26/40] Train Loss: 0.1716  Train Acc: 0.9974  Val Loss: 0.7819  Val Acc: 0.8735\n",
      "Epoch [27/40] Train Loss: 0.1570  Train Acc: 0.9991  Val Loss: 0.7414  Val Acc: 0.8796\n",
      "Epoch [28/40] Train Loss: 0.1548  Train Acc: 0.9981  Val Loss: 0.7348  Val Acc: 0.8838\n",
      "Epoch [29/40] Train Loss: 0.1458  Train Acc: 0.9988  Val Loss: 0.7751  Val Acc: 0.8781\n",
      "Epoch [30/40] Train Loss: 0.1447  Train Acc: 0.9988  Val Loss: 0.7429  Val Acc: 0.8792\n",
      "Epoch [31/40] Train Loss: 0.1408  Train Acc: 0.9992  Val Loss: 0.7298  Val Acc: 0.8769\n",
      "Epoch [32/40] Train Loss: 0.1358  Train Acc: 0.9985  Val Loss: 0.7341  Val Acc: 0.8762\n",
      "Epoch [33/40] Train Loss: 0.1305  Train Acc: 0.9994  Val Loss: 0.7019  Val Acc: 0.8842\n",
      "Epoch [34/40] Train Loss: 0.1285  Train Acc: 0.9995  Val Loss: 0.6985  Val Acc: 0.8838\n",
      "Epoch [35/40] Train Loss: 0.1325  Train Acc: 0.9995  Val Loss: 0.7294  Val Acc: 0.8796\n",
      "Epoch [36/40] Train Loss: 0.1226  Train Acc: 0.9997  Val Loss: 0.7285  Val Acc: 0.8777\n",
      "Epoch [37/40] Train Loss: 0.1177  Train Acc: 0.9996  Val Loss: 0.6841  Val Acc: 0.8904\n",
      "Epoch [38/40] Train Loss: 0.1152  Train Acc: 0.9997  Val Loss: 0.6845  Val Acc: 0.8877\n",
      "Epoch [39/40] Train Loss: 0.1169  Train Acc: 0.9995  Val Loss: 0.7145  Val Acc: 0.8762\n",
      "Epoch [40/40] Train Loss: 0.1131  Train Acc: 0.9994  Val Loss: 0.7096  Val Acc: 0.8800\n"
     ]
    }
   ],
   "source": [
    "# TODO: 5. Train ResNet18 and save the best-performing parameters to 'resnet18_checkpoint.pkl'.\n",
    "# Hint: Use the correct loss function for knowledge distillation.\n",
    "#       Details can be fund in https://docs.pytorch.org/tutorials/beginner/knowledge_distillation_tutorial.html.\n",
    "\n",
    "train_accs_resnet18, train_losses_resnet18, val_accs_resnet18, val_losses_resnet18 = [], [], [], []\n",
    "best_val_acc = 0.0\n",
    "\n",
    "for epoch in range(MAX_EPOCH):\n",
    "    # --------- Train ----------\n",
    "    resnet18.train()\n",
    "    running_loss, running_correct = 0.0, 0\n",
    "    for imgs, lbls in train_loader:\n",
    "        imgs, lbls = imgs.to(device), lbls.to(device)\n",
    "\n",
    "        optimizer.zero_grad()\n",
    "        outputs_student = resnet18(imgs)\n",
    "        with torch.no_grad():\n",
    "            outputs_teacher = resnet34(imgs)\n",
    "\n",
    "        loss_kd = criterion_kd(\n",
    "            F.log_softmax(outputs_student / TEMPERATURE, dim=1),\n",
    "            F.softmax(outputs_teacher / TEMPERATURE, dim=1)\n",
    "        ) * (TEMPERATURE ** 2)\n",
    "\n",
    "        loss_ce = criterion_ce(outputs_student, lbls)\n",
    "        loss = LOSS_RATIO * loss_kd + (1.0 - LOSS_RATIO) * loss_ce\n",
    "\n",
    "        loss.backward()\n",
    "        optimizer.step()\n",
    "\n",
    "        running_loss    += loss.item() * imgs.size(0)\n",
    "        running_correct += (outputs_student.argmax(1) == lbls).sum().item()\n",
    "\n",
    "    scheduler.step()\n",
    "\n",
    "    epoch_loss = running_loss / tensor_train.shape[0]\n",
    "    epoch_acc  = running_correct / tensor_train.shape[0]\n",
    "    train_losses_resnet18.append(epoch_loss)\n",
    "    train_accs_resnet18.append(epoch_acc)\n",
    "\n",
    "    # --------- Validation ----------\n",
    "    resnet18.eval()\n",
    "    val_running_loss, val_running_correct = 0.0, 0\n",
    "    with torch.no_grad():\n",
    "        for imgs, lbls in val_loader:\n",
    "            imgs, lbls = imgs.to(device), lbls.to(device)\n",
    "\n",
    "            outputs_student = resnet18(imgs)\n",
    "            outputs_teacher = resnet34(imgs)\n",
    "\n",
    "            val_loss_kd = criterion_kd(\n",
    "                F.log_softmax(outputs_student / TEMPERATURE, dim=1),\n",
    "                F.softmax(outputs_teacher / TEMPERATURE, dim=1)\n",
    "            ) * (TEMPERATURE ** 2)\n",
    "            val_loss_ce = criterion_ce(outputs_student, lbls)\n",
    "            val_loss = LOSS_RATIO * val_loss_kd + (1.0 - LOSS_RATIO) * val_loss_ce\n",
    "\n",
    "            val_running_loss    += val_loss.item() * imgs.size(0)\n",
    "            val_running_correct += (outputs_student.argmax(1) == lbls).sum().item()\n",
    "\n",
    "    val_epoch_loss = val_running_loss / tensor_val.shape[0]\n",
    "    val_epoch_acc  = val_running_correct / tensor_val.shape[0]\n",
    "    val_losses_resnet18.append(val_epoch_loss)\n",
    "    val_accs_resnet18.append(val_epoch_acc)\n",
    "\n",
    "    print(f\"Epoch [{epoch+1}/{MAX_EPOCH}] \"\n",
    "          f\"Train Loss: {epoch_loss:.4f}  Train Acc: {epoch_acc:.4f}  \"\n",
    "          f\"Val Loss: {val_epoch_loss:.4f}  Val Acc: {val_epoch_acc:.4f}\")\n",
    "\n",
    "    if val_epoch_acc > best_val_acc:\n",
    "        best_val_acc = val_epoch_acc\n",
    "        torch.save(resnet18.state_dict(), \"resnet18_checkpoint.pkl\")\n"
   ]
  },
  {
   "cell_type": "code",
   "execution_count": 69,
   "id": "260396b6b143a422",
   "metadata": {
    "ExecuteTime": {
     "end_time": "2025-05-10T03:04:33.157515Z",
     "start_time": "2025-05-10T03:04:32.960493Z"
    },
    "collapsed": false,
    "id": "260396b6b143a422",
    "jupyter": {
     "outputs_hidden": false
    }
   },
   "outputs": [
    {
     "data": {
      "image/png": "[encoded data removed]",
      "text/plain": [
       "<Figure size 600x900 with 2 Axes>"
      ]
     },
     "metadata": {},
     "output_type": "display_data"
    }
   ],
   "source": [
    "# TODO: 6. Plot the loss and accuracy curves.\n",
    "# ==== Plot ResNet18 curves ====\n",
    "plt.figure(figsize=(6, 9))\n",
    "\n",
    "# -------- Loss subplot --------\n",
    "plt.subplot(2, 1, 1)\n",
    "plt.plot(train_losses_resnet18, label=\"ResNet18 Training Loss\")\n",
    "plt.plot(val_losses_resnet18,   label=\"ResNet18 Validation Loss\")\n",
    "plt.xlabel(\"Epoch\")\n",
    "plt.ylabel(\"Loss\")\n",
    "plt.title(\"ResNet18 Loss (Knowledge Distillation)\")\n",
    "plt.legend()\n",
    "plt.grid(alpha=0.3)\n",
    "\n",
    "# -------- Accuracy subplot --------\n",
    "plt.subplot(2, 1, 2)\n",
    "plt.plot(train_accs_resnet18, label=\"ResNet18 Training Accuracy\")\n",
    "plt.plot(val_accs_resnet18,   label=\"ResNet18 Validation Accuracy\")\n",
    "plt.xlabel(\"Epoch\")\n",
    "plt.ylabel(\"Accuracy\")\n",
    "plt.title(\"ResNet18 Accuracy (Knowledge Distillation)\")\n",
    "plt.legend()\n",
    "plt.grid(alpha=0.3)\n",
    "\n",
    "plt.tight_layout()\n",
    "plt.show()\n"
   ]
  },
  {
   "cell_type": "markdown",
   "id": "730790a6c4e96912",
   "metadata": {
    "collapsed": false,
    "id": "730790a6c4e96912",
    "jupyter": {
     "outputs_hidden": false
    }
   },
   "source": [
    "# Step 4 Predict labels in the testing set\n",
    "1. Load the saved ResNet18 and move it to the selected device.\n",
    "2. Do prediction using the images in the testing set.\n",
    "3. Write the results into the CSV file for submission."
   ]
  },
  {
   "cell_type": "code",
   "execution_count": 70,
   "id": "d2a8f6f703b42a0a",
   "metadata": {
    "collapsed": false,
    "id": "d2a8f6f703b42a0a",
    "jupyter": {
     "outputs_hidden": false
    }
   },
   "outputs": [],
   "source": [
    "# TODO: 1. Load the saved ResNet18 and move it to the selected device.\n",
    "# Hint: Enable the evaluation mode to prevent updating the parameters.\n",
    "\n",
    "# ---------- 1. build the same network as during training ----------\n",
    "resnet18 = torchvision.models.resnet18(weights=None)\n",
    "in_feats  = resnet18.fc.in_features\n",
    "resnet18.fc = nn.Sequential(\n",
    "    nn.Dropout(p=0.3),                 # must match training topology\n",
    "    nn.Linear(in_feats, num_classes)   # keys: fc.1.weight / fc.1.bias\n",
    ")\n",
    "\n",
    "# ---------- 2. load weights ----------\n",
    "state = torch.load(\n",
    "    \"resnet18_checkpoint.pkl\",\n",
    "    map_location=device,\n",
    "    weights_only=True                 # loads tensors only (safer)\n",
    ")\n",
    "resnet18.load_state_dict(state, strict=True)   # keys match exactly\n",
    "\n",
    "# ---------- 3. move to device & eval mode ----------\n",
    "resnet18 = resnet18.to(device).eval()"
   ]
  },
  {
   "cell_type": "code",
   "execution_count": 71,
   "id": "44ee908450e937e7",
   "metadata": {
    "ExecuteTime": {
     "end_time": "2025-05-10T03:43:20.873625Z",
     "start_time": "2025-05-10T03:43:18.999813Z"
    },
    "collapsed": false,
    "id": "44ee908450e937e7",
    "jupyter": {
     "outputs_hidden": false
    }
   },
   "outputs": [],
   "source": [
    "# TODO: 2. Do prediction using the images in the testing set.\n",
    "predictions = []\n",
    "test_loader = torch.utils.data.DataLoader(\n",
    "    torch.utils.data.TensorDataset(tensor_test),  # dataset of only images\n",
    "    batch_size=64,\n",
    "    shuffle=False,\n",
    "    num_workers=4,\n",
    "    pin_memory=True\n",
    ")\n",
    "\n",
    "with torch.no_grad():\n",
    "    for (imgs,) in test_loader:                   # (imgs,) since dataset returns a tuple\n",
    "        imgs = imgs.to(device)\n",
    "        outputs = resnet18(imgs)\n",
    "        preds = outputs.argmax(dim=1).cpu().tolist()\n",
    "        predictions.extend(preds)"
   ]
  },
  {
   "cell_type": "code",
   "execution_count": 72,
   "id": "bee5ddbde0d132cf",
   "metadata": {
    "collapsed": false,
    "id": "bee5ddbde0d132cf",
    "jupyter": {
     "outputs_hidden": false
    }
   },
   "outputs": [],
   "source": [
    "# TODO: 3. Write the results into the CSV file for submission.\n",
    "# Hint: The CSV file should be in the format of 'file_name' and 'label'.\n",
    "#       The submission.csv should look like:\n",
    "#           file_name,label\n",
    "#           0.jpg,sunglasses\n",
    "#           ...\n",
    "\n",
    "index_to_label = torch.load(\"D:/Phase-2-Data-Science-FengJiang-main/3. Deep Learning Project/data_preprocessed/index_to_label.pt\", weights_only=False)\n",
    "\n",
    "with open(\"submission.csv\", \"w\", newline=\"\") as f:\n",
    "    writer = csv.writer(f)\n",
    "    writer.writerow([\"file_name\", \"label\"])\n",
    "    for idx, pred_idx in enumerate(predictions):\n",
    "        writer.writerow([f\"{idx}.jpg\", index_to_label[int(pred_idx)]])"
   ]
  },
  {
   "cell_type": "code",
   "execution_count": null,
   "id": "4659cb7a-767a-43ef-bb33-4b7b309ce9e9",
   "metadata": {},
   "outputs": [],
   "source": []
  },
  {
   "cell_type": "code",
   "execution_count": null,
   "id": "ebee1a1c-d449-4a22-8a78-726daaecf0ac",
   "metadata": {},
   "outputs": [],
   "source": []
  }
 ],
 "metadata": {
  "colab": {
   "provenance": []
  },
  "kernelspec": {
   "display_name": "Python (MSA)",
   "language": "python",
   "name": "msa"
  },
  "language_info": {
   "codemirror_mode": {
    "name": "ipython",
    "version": 3
   },
   "file_extension": ".py",
   "mimetype": "text/x-python",
   "name": "python",
   "nbconvert_exporter": "python",
   "pygments_lexer": "ipython3",
   "version": "3.10.16"
  }
 },
 "nbformat": 4,
 "nbformat_minor": 5
}
